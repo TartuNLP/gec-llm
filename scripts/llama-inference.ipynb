{
 "cells": [
  {
   "cell_type": "code",
   "execution_count": 1,
   "metadata": {},
   "outputs": [
    {
     "name": "stderr",
     "output_type": "stream",
     "text": [
      "/gpfs/space/home/taido/miniconda3/envs/llama_recipes_a100_v2/lib/python3.10/site-packages/tqdm/auto.py:21: TqdmWarning: IProgress not found. Please update jupyter and ipywidgets. See https://ipywidgets.readthedocs.io/en/stable/user_install.html\n",
      "  from .autonotebook import tqdm as notebook_tqdm\n"
     ]
    }
   ],
   "source": [
    "import logging\n",
    "import time\n",
    "from typing import Optional, List, Dict\n",
    "\n",
    "import os\n",
    "import sys\n",
    "import json\n",
    "import gc \n",
    "\n",
    "import torch\n",
    "from torch.utils.data import Dataset\n",
    "import torch.distributed._shard.checkpoint as dist_cp\n",
    "from torch.distributed.checkpoint import FileSystemReader\n",
    "from tqdm import tqdm\n",
    "\n",
    "from transformers import LlamaTokenizer, LlamaForCausalLM, LlamaConfig\n",
    "\n",
    "logging.basicConfig(\n",
    "    format=\"%(asctime)s | %(levelname)s | %(name)s | %(message)s\",\n",
    "    datefmt=\"%Y-%m-%d %H:%M:%S\",\n",
    "    level=os.environ.get(\"LOGLEVEL\", \"INFO\").upper(),\n",
    "    stream=sys.stdout,\n",
    ")"
   ]
  },
  {
   "cell_type": "code",
   "execution_count": 2,
   "metadata": {},
   "outputs": [],
   "source": [
    "def load_model(model_name, sharded_model_path=None):\n",
    "    if sharded_model_path is None:\n",
    "        logging.info(f\"Loading model {model_name}\")\n",
    "        model = LlamaForCausalLM.from_pretrained(\n",
    "            model_name,\n",
    "            device_map=\"auto\",\n",
    "            return_dict=True,\n",
    "            low_cpu_mem_usage=True,\n",
    "        )\n",
    "    else:\n",
    "        logging.info(f\"Loading sharded model from {sharded_model_path} with {model_name} config\")\n",
    "\n",
    "        model_config = LlamaConfig.from_pretrained(\n",
    "            model_name,\n",
    "            return_dict=True,\n",
    "        )\n",
    "        model = LlamaForCausalLM(\n",
    "            config=model_config,\n",
    "        )\n",
    "\n",
    "        state_dict = {\n",
    "            \"model\": model.state_dict()\n",
    "        }\n",
    "\n",
    "        dist_cp.load_state_dict(\n",
    "            state_dict=state_dict,\n",
    "            storage_reader=FileSystemReader(sharded_model_path),\n",
    "            no_dist=True,\n",
    "        )\n",
    "        model.load_state_dict(state_dict[\"model\"])\n",
    "        model.to(torch.device(\"cuda\" if torch.cuda.is_available() else \"cpu\"))\n",
    "    logging.info(f\"model device before prediction: {next(model.parameters()).device}\")\n",
    "    return model\n",
    "\n",
    "def write_json(instructions: List[Dict[str, str]], file_path: str):\n",
    "    with open(file_path, \"w\", encoding=\"utf-8\") as f:\n",
    "        json.dump(instructions, f, indent=4, default=str)"
   ]
  },
  {
   "cell_type": "code",
   "execution_count": 4,
   "metadata": {},
   "outputs": [
    {
     "name": "stdout",
     "output_type": "stream",
     "text": [
      "2023-10-09 18:33:06 | INFO | root | Loading sharded model from /gpfs/space/projects/nlpgroup/llms/checkpoints/full-finetune-llama-7b-translation-alpaca-alpacaest-bs16/checkpoint-8605/pytorch_model_0 with meta-llama/Llama-2-7b-hf config\n",
      "2023-10-09 18:36:20 | INFO | root | model device before prediction: cuda:0\n"
     ]
    },
    {
     "name": "stderr",
     "output_type": "stream",
     "text": [
      "Loading the tokenizer from the `special_tokens_map.json` and the `added_tokens.json` will be removed in `transformers 5`,  it is kept for forward compatibility, but it is recommended to update your `tokenizer_config.json` by uploading it again. You will see the new `added_tokens_decoder` attribute that will store the relevant information.\n"
     ]
    }
   ],
   "source": [
    "gc.collect()\n",
    "torch.cuda.empty_cache()\n",
    "\n",
    "seed = 42\n",
    "model_name = \"meta-llama/Llama-2-7b-hf\"\n",
    "sharded_model_path = \"/gpfs/space/projects/nlpgroup/llms/checkpoints/full-finetune-llama-7b-translation-alpaca-alpacaest-bs16/checkpoint-8605/pytorch_model_0\"\n",
    "\n",
    "torch.cuda.manual_seed(seed)\n",
    "torch.manual_seed(seed)\n",
    "        \n",
    "model = load_model(model_name, sharded_model_path)\n",
    "    \n",
    "model.eval()\n",
    "tokenizer = LlamaTokenizer.from_pretrained(model_name, padding_side=\"left\")\n",
    "tokenizer.pad_token_id = 0"
   ]
  },
  {
   "cell_type": "code",
   "execution_count": 56,
   "metadata": {},
   "outputs": [],
   "source": [
    "PROMPT_DICT = {\n",
    "    \"prompt_input\": (\n",
    "        \"Below is an instruction that describes a task, paired with an input that provides further context. \"\n",
    "        \"Write a response that appropriately completes the request.\\n\\n\"\n",
    "        \"### Instruction:\\n{instruction}\\n\\n### Input:\\n{input}\\n\\n### Response:\\n\"\n",
    "    ),\n",
    "    \"prompt_no_input\": (\n",
    "        \"Below is an instruction that describes a task. \"\n",
    "        \"Write a response that appropriately completes the request.\\n\\n\"\n",
    "        \"### Instruction:\\n{instruction}\\n\\n### Response:\\n\"\n",
    "    ),\n",
    "}\n",
    "\n",
    "from torch.utils.data import Dataset\n",
    "class ValidationDataset(Dataset):\n",
    "    def __init__(self, data):\n",
    "        self.data = data\n",
    "\n",
    "    def __len__(self):\n",
    "        return len(self.data)\n",
    "\n",
    "    def __getitem__(self, index):\n",
    "        item = self.data[index]\n",
    "\n",
    "        if item.get(\"input\", \"\") == \"\":\n",
    "            prompt = PROMPT_DICT[\"prompt_no_input\"].format_map(item)\n",
    "        else:\n",
    "            prompt = PROMPT_DICT[\"prompt_input\"].format_map(item)\n",
    "        \n",
    "        if \"output\" in item:\n",
    "            return {\"prompts\": prompt, \"labels\": item[\"output\"]}\n",
    "\n",
    "        return {\"prompts\": prompt}\n",
    "\n",
    "val_data = ValidationDataset([\n",
    "    {\n",
    "        \"instruction\": \"Tüdruk tahtis oma matemaatikaõpetajat tänada.\\nMis oli selle tagajärg?\\nValik 1: Tüdruk jäeti peale tunde.\\nValik 2: Tüdruk tõi õpetajale õuna.\\n\\nVasta õige numbriga.\",\n",
    "        \"input\": \"\",\n",
    "    }\n",
    "])\n",
    "val_dataloader = torch.utils.data.DataLoader(\n",
    "    val_data,\n",
    "    batch_size=1,\n",
    "    num_workers=1,\n",
    "    pin_memory=True,\n",
    "    drop_last=False\n",
    ")"
   ]
  },
  {
   "cell_type": "code",
   "execution_count": 74,
   "metadata": {},
   "outputs": [
    {
     "name": "stderr",
     "output_type": "stream",
     "text": [
      "100%|██████████| 1/1 [00:01<00:00,  1.55s/it]"
     ]
    },
    {
     "name": "stdout",
     "output_type": "stream",
     "text": [
      "Valik 2: Tüdruk tõi õpetajale õuna.\n"
     ]
    },
    {
     "name": "stderr",
     "output_type": "stream",
     "text": [
      "\n"
     ]
    }
   ],
   "source": [
    "def predict(val_dataloader):\n",
    "    for data_batch in tqdm(val_dataloader):\n",
    "        \"\"\"\n",
    "        We pad to the longest sequence in the batch and not truncate at all because we are confident\n",
    "        they have a reasonable lenght.\n",
    "        \"\"\"\n",
    "        batch = tokenizer(data_batch[\"prompts\"], padding=True, truncation=False, return_tensors=\"pt\")\n",
    "        batch = {k: v.to(\"cuda\") for k, v in batch.items()}\n",
    "\n",
    "        with torch.no_grad():\n",
    "            outputs = model.generate(\n",
    "                **batch,\n",
    "                max_new_tokens=100,\n",
    "                do_sample=False,\n",
    "                top_p=1.0,\n",
    "                temperature=1.0,\n",
    "                min_length=None,\n",
    "                use_cache=True,\n",
    "                top_k=50,\n",
    "                repetition_penalty=1.0,\n",
    "                length_penalty=1,\n",
    "                pad_token_id=tokenizer.pad_token_id,\n",
    "                num_beams=1,\n",
    "            )\n",
    "\n",
    "        # Could use batch decode here but I want to process each one separately.\n",
    "        for ix, output in enumerate(outputs):\n",
    "            prediction = tokenizer.decode(output[len(batch[\"input_ids\"][ix]):], skip_special_tokens=True)\n",
    "            yield prediction\n",
    "\n",
    "for prediction in predict(val_dataloader):\n",
    "    print(prediction)"
   ]
  },
  {
   "cell_type": "code",
   "execution_count": null,
   "metadata": {},
   "outputs": [],
   "source": []
  }
 ],
 "metadata": {
  "kernelspec": {
   "display_name": "llama_recipes_a100_v2",
   "language": "python",
   "name": "llama_recipes_a100_v2"
  },
  "language_info": {
   "codemirror_mode": {
    "name": "ipython",
    "version": 3
   },
   "file_extension": ".py",
   "mimetype": "text/x-python",
   "name": "python",
   "nbconvert_exporter": "python",
   "pygments_lexer": "ipython3",
   "version": "3.10.13"
  }
 },
 "nbformat": 4,
 "nbformat_minor": 5
}
